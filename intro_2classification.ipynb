{
  "nbformat": 4,
  "nbformat_minor": 0,
  "metadata": {
    "colab": {
      "name": "intro_2classification.ipynb",
      "provenance": [],
      "collapsed_sections": [],
      "authorship_tag": "ABX9TyM/69JDbcLwOajV1kbxqj/q",
      "include_colab_link": true
    },
    "kernelspec": {
      "name": "python3",
      "display_name": "Python 3"
    },
    "language_info": {
      "name": "python"
    }
  },
  "cells": [
    {
      "cell_type": "markdown",
      "metadata": {
        "id": "view-in-github",
        "colab_type": "text"
      },
      "source": [
        "<a href=\"https://colab.research.google.com/github/chrysfarias/Jogos_python_fazendo/blob/master/intro_2classification.ipynb\" target=\"_parent\"><img src=\"https://colab.research.google.com/assets/colab-badge.svg\" alt=\"Open In Colab\"/></a>"
      ]
    },
    {
      "cell_type": "code",
      "execution_count": null,
      "metadata": {
        "id": "zbUlIsF5RRfx"
      },
      "outputs": [],
      "source": [
        "import pandas as pd\n",
        "uri =\"https://gist.githubusercontent.com/guilhermesilveira/2d2efa37d66b6c84a722ea627a897ced/raw/10968b997d885cbded1c92938c7a9912ba41c615/tracking.csv\"\n",
        "data= pd.read_csv(uri)\n",
        "\n",
        "data.head()"
      ]
    },
    {
      "cell_type": "code",
      "source": [
        "x = data[[\"home\",\"how_it_works\",\"contact\"]]"
      ],
      "metadata": {
        "id": "hJWzclHrR55I"
      },
      "execution_count": 9,
      "outputs": []
    },
    {
      "cell_type": "code",
      "source": [
        "y = data[\"bought\"]"
      ],
      "metadata": {
        "id": "zlF0_AIET9r3"
      },
      "execution_count": 12,
      "outputs": []
    },
    {
      "cell_type": "code",
      "source": [
        "y.head()\n"
      ],
      "metadata": {
        "id": "YleU0v17UFwp"
      },
      "execution_count": null,
      "outputs": []
    },
    {
      "cell_type": "code",
      "source": [
        "data.shape  \n"
      ],
      "metadata": {
        "id": "XifOITYmXOW8"
      },
      "execution_count": null,
      "outputs": []
    },
    {
      "cell_type": "code",
      "source": [
        "train_x = x[:75]\n",
        "train_y = y[:75]\n",
        "test_x  = x[75:]\n",
        "test_y  = y[75:]\n",
        "\n",
        "print(\"we'll train with: %d and we'll test with: %d\" % (len(train_x), len(test_x)))"
      ],
      "metadata": {
        "id": "mO-_2pNQXOcY"
      },
      "execution_count": null,
      "outputs": []
    },
    {
      "cell_type": "code",
      "source": [
        "from sklearn.svm import LinearSVC\n",
        "from sklearn.metrics import accuracy_score\n",
        "\n",
        "model = LinearSVC()\n",
        "model.fit(train_x  , train_y)\n",
        "predictions = model.predict(test_x)\n",
        "\n",
        "#compare predictions with the test \n",
        "\n",
        "accuracy = accuracy_score(test_y, predictions) *100\n",
        "print(\"The accuracy was %.2f%% \" % accuracy)"
      ],
      "metadata": {
        "id": "2EnIr6J1XO1J",
        "colab": {
          "base_uri": "https://localhost:8080/"
        },
        "outputId": "0599f7b7-bab9-4c49-e6b3-14b97883171c"
      },
      "execution_count": 23,
      "outputs": [
        {
          "output_type": "stream",
          "name": "stdout",
          "text": [
            "The accuracy was 95.83% \n"
          ]
        }
      ]
    },
    {
      "cell_type": "code",
      "source": [
        " "
      ],
      "metadata": {
        "id": "8Ih8oP94XO35"
      },
      "execution_count": 4,
      "outputs": []
    }
  ]
}